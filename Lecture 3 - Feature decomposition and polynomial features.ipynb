{
 "cells": [
  {
   "cell_type": "code",
   "execution_count": 28,
   "metadata": {},
   "outputs": [],
   "source": [
    "import pandas as pd\n",
    "import numpy as np\n",
    "import matplotlib.pyplot as plt\n",
    "import seaborn as sns\n",
    "import os\n",
    "from sklearn.model_selection import cross_val_score\n",
    "from sklearn.metrics import r2_score, mean_squared_error\n",
    "os.chdir('/home/FRACTAL/ankush.raut/Downloads/Lecture assignments/Class 1 Module 2 data')"
   ]
  },
  {
   "cell_type": "code",
   "execution_count": 2,
   "metadata": {},
   "outputs": [],
   "source": [
    "train = pd.read_csv('processed_train.csv')\n",
    "test = pd.read_csv('processed_test.csv')\n",
    "submission = pd.read_csv('sample_submission.csv')"
   ]
  },
  {
   "cell_type": "code",
   "execution_count": 4,
   "metadata": {},
   "outputs": [],
   "source": [
    "pd.set_option('display.max_columns', None)"
   ]
  },
  {
   "cell_type": "code",
   "execution_count": 7,
   "metadata": {},
   "outputs": [],
   "source": [
    "corr_matrix = train.corr().abs()\n",
    "upper = corr_matrix.where(np.triu(np.ones(corr_matrix.shape), k=1).astype(np.bool))\n",
    "correlated_columns = [column for column in upper.columns if any(upper[column] > 0.8)]"
   ]
  },
  {
   "cell_type": "markdown",
   "metadata": {},
   "source": [
    "## Polynomial Features"
   ]
  },
  {
   "cell_type": "code",
   "execution_count": 9,
   "metadata": {},
   "outputs": [],
   "source": [
    "from sklearn.preprocessing import PolynomialFeatures"
   ]
  },
  {
   "cell_type": "code",
   "execution_count": 43,
   "metadata": {},
   "outputs": [],
   "source": [
    "polynomial_features = PolynomialFeatures(degree=2, interaction_only=True, include_bias=True)"
   ]
  },
  {
   "cell_type": "code",
   "execution_count": 16,
   "metadata": {},
   "outputs": [],
   "source": [
    "training = train[['Id']+correlated_columns]\n",
    "target = train[['SalePrice']]\n",
    "\n",
    "test_ids = test[['Id']]"
   ]
  },
  {
   "cell_type": "code",
   "execution_count": 17,
   "metadata": {},
   "outputs": [],
   "source": [
    "from sklearn.model_selection import train_test_split"
   ]
  },
  {
   "cell_type": "code",
   "execution_count": 44,
   "metadata": {},
   "outputs": [],
   "source": [
    "xtrain, xtest, ytrain, ytest = train_test_split(training, target, test_size = 0.2, random_state = 0)"
   ]
  },
  {
   "cell_type": "code",
   "execution_count": 45,
   "metadata": {},
   "outputs": [],
   "source": [
    "# xtrain = polynomial_features.fit_transform(xtrain.drop(columns = ['Id']))\n",
    "# xtest = polynomial_features.transform(xtest.drop(columns = ['Id']))"
   ]
  },
  {
   "cell_type": "code",
   "execution_count": 38,
   "metadata": {},
   "outputs": [],
   "source": [
    "xtrain_ids = xtrain[['Id']]\n",
    "xtest_ids = xtest[['Id']]\n",
    "\n",
    "xtrain = xtrain.drop(columns = ['Id'])\n",
    "xtest = xtest.drop(columns = ['Id'])"
   ]
  },
  {
   "cell_type": "code",
   "execution_count": 46,
   "metadata": {},
   "outputs": [],
   "source": [
    "from sklearn.linear_model import LinearRegression"
   ]
  },
  {
   "cell_type": "code",
   "execution_count": 47,
   "metadata": {},
   "outputs": [],
   "source": [
    "lm_regressor = LinearRegression(fit_intercept=True, copy_X=True, n_jobs=-1)\n",
    "lm_regression = lm_regressor.fit(xtrain, ytrain)"
   ]
  },
  {
   "cell_type": "code",
   "execution_count": 48,
   "metadata": {},
   "outputs": [
    {
     "name": "stdout",
     "output_type": "stream",
     "text": [
      "Linear Regression cross validated score = 0.6689973210911131\n"
     ]
    }
   ],
   "source": [
    "lm_reg_cv_score = np.mean(cross_val_score(lm_regression, xtrain, ytrain, cv = 5))\n",
    "print('Linear Regression cross validated score =', lm_reg_cv_score)"
   ]
  },
  {
   "cell_type": "code",
   "execution_count": 49,
   "metadata": {},
   "outputs": [
    {
     "name": "stdout",
     "output_type": "stream",
     "text": [
      "Linear Regression R^2 on hold out set = 0.35467343094833825\n",
      "Linear Regression rmse on hold out set = 66757.23529068562\n",
      "Mean SalePrice = 181370.38356164383\n"
     ]
    }
   ],
   "source": [
    "lm_predictions = lm_regression.predict(xtest)\n",
    "lm_r2 = r2_score(ytest.SalePrice, lm_predictions)\n",
    "lm_rmse = np.sqrt(mean_squared_error(ytest.SalePrice, lm_predictions))\n",
    "\n",
    "print('Linear Regression R^2 on hold out set =', lm_r2)\n",
    "print('Linear Regression rmse on hold out set =', lm_rmse)\n",
    "print('Mean SalePrice =', np.mean(ytest.SalePrice))"
   ]
  },
  {
   "cell_type": "markdown",
   "metadata": {},
   "source": [
    "## PCA"
   ]
  },
  {
   "cell_type": "code",
   "execution_count": 50,
   "metadata": {},
   "outputs": [],
   "source": [
    "from sklearn.decomposition import PCA"
   ]
  },
  {
   "cell_type": "code",
   "execution_count": 65,
   "metadata": {},
   "outputs": [],
   "source": [
    "xtrain, xtest, ytrain, ytest = train_test_split(training, target, test_size = 0.2, random_state = 0)"
   ]
  },
  {
   "cell_type": "code",
   "execution_count": 66,
   "metadata": {},
   "outputs": [],
   "source": [
    "pca = PCA(n_components=3, iterated_power='auto', random_state=0)"
   ]
  },
  {
   "cell_type": "code",
   "execution_count": 67,
   "metadata": {},
   "outputs": [],
   "source": [
    "xtrain = pca.fit_transform(xtrain.drop(columns = ['Id']))\n",
    "xtest = pca.transform(xtest.drop(columns = ['Id']))"
   ]
  },
  {
   "cell_type": "code",
   "execution_count": 68,
   "metadata": {},
   "outputs": [],
   "source": [
    "lm_regressor = LinearRegression(fit_intercept=True, copy_X=True, n_jobs=-1)\n",
    "lm_regression = lm_regressor.fit(xtrain, ytrain)"
   ]
  },
  {
   "cell_type": "code",
   "execution_count": 69,
   "metadata": {},
   "outputs": [
    {
     "name": "stdout",
     "output_type": "stream",
     "text": [
      "Linear Regression cross validated score = 0.5358032119551579\n"
     ]
    }
   ],
   "source": [
    "lm_reg_cv_score = np.mean(cross_val_score(lm_regression, xtrain, ytrain, cv = 5))\n",
    "print('Linear Regression cross validated score =', lm_reg_cv_score)"
   ]
  },
  {
   "cell_type": "code",
   "execution_count": 70,
   "metadata": {},
   "outputs": [
    {
     "name": "stdout",
     "output_type": "stream",
     "text": [
      "Linear Regression R^2 on hold out set = 0.3834206973260078\n",
      "Linear Regression rmse on hold out set = 65253.38424309142\n",
      "Mean SalePrice = 181370.38356164383\n"
     ]
    }
   ],
   "source": [
    "lm_predictions = lm_regression.predict(xtest)\n",
    "lm_r2 = r2_score(ytest.SalePrice, lm_predictions)\n",
    "lm_rmse = np.sqrt(mean_squared_error(ytest.SalePrice, lm_predictions))\n",
    "\n",
    "print('Linear Regression R^2 on hold out set =', lm_r2)\n",
    "print('Linear Regression rmse on hold out set =', lm_rmse)\n",
    "print('Mean SalePrice =', np.mean(ytest.SalePrice))"
   ]
  },
  {
   "cell_type": "code",
   "execution_count": null,
   "metadata": {},
   "outputs": [],
   "source": []
  }
 ],
 "metadata": {
  "kernelspec": {
   "display_name": "Python 3",
   "language": "python",
   "name": "python3"
  },
  "language_info": {
   "codemirror_mode": {
    "name": "ipython",
    "version": 3
   },
   "file_extension": ".py",
   "mimetype": "text/x-python",
   "name": "python",
   "nbconvert_exporter": "python",
   "pygments_lexer": "ipython3",
   "version": "3.7.3"
  }
 },
 "nbformat": 4,
 "nbformat_minor": 2
}
